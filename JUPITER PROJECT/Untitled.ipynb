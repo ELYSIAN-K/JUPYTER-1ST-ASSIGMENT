{
 "cells": [
  {
   "cell_type": "code",
   "execution_count": 11,
   "id": "3209c0da-6025-4f25-85fa-e17b81cc5cd1",
   "metadata": {},
   "outputs": [
    {
     "name": "stdout",
     "output_type": "stream",
     "text": [
      "DILAWAIZ\n"
     ]
    },
    {
     "name": "stdin",
     "output_type": "stream",
     "text": [
      "please give me your name: DILAWAIZ\n",
      "enter your english marks: 80\n",
      "enter your math marks: 70\n",
      "enter your urdu marks: 85\n"
     ]
    },
    {
     "name": "stdout",
     "output_type": "stream",
     "text": [
      "(DILAWAIZ) YOUR OBTAINE MARKS ARE 235, AND YOUR PERCENTAGE IS 78.33333333333333,AND YOUR GRADE IS A:\n"
     ]
    }
   ],
   "source": [
    "print(\"DILAWAIZ\")\n",
    "\n",
    "# MARK SHEEET\n",
    "\n",
    "NAME =input(\"please give me your name:\")\n",
    "english =int(input(\"enter your english marks:\"))\n",
    "maths =int(input(\"enter your math marks:\"))\n",
    "urdu =int(input(\"enter your urdu marks:\"))\n",
    "\n",
    "obtaine =(english + maths + urdu) \n",
    "percentage =(obtained/300*100)\n",
    "\n",
    "if percentage >80 and percentage <100:\n",
    "    grade =\"A1\"\n",
    "    \n",
    "elif percentage >60 and percentage <80:\n",
    "    grade =\"A\"\n",
    "    \n",
    "elif percentage >50 and percentage <70:\n",
    "    grade =\"B\"\n",
    "    \n",
    "elif percentage >30 and percentage <50:\n",
    "    grade =\"C\"\n",
    "\n",
    "print(f\"(DILAWAIZ) YOUR OBTAINE MARKS ARE {obtaine}, AND YOUR PERCENTAGE IS {percentage},AND YOUR GRADE IS {grade}:\")"
   ]
  },
  {
   "cell_type": "code",
   "execution_count": 3,
   "id": "410fc0e3-37de-4ede-97e8-fa04bc96d9ce",
   "metadata": {},
   "outputs": [
    {
     "name": "stdin",
     "output_type": "stream",
     "text": [
      "which table you want to run: 2\n",
      "how many time to run the table: 20\n"
     ]
    },
    {
     "name": "stdout",
     "output_type": "stream",
     "text": [
      "2 x 1 2\n",
      "2 x 2 4\n",
      "2 x 3 6\n",
      "2 x 4 8\n",
      "2 x 5 10\n",
      "2 x 6 12\n",
      "2 x 7 14\n",
      "2 x 8 16\n",
      "2 x 9 18\n",
      "2 x 10 20\n",
      "2 x 11 22\n",
      "2 x 12 24\n",
      "2 x 13 26\n",
      "2 x 14 28\n",
      "2 x 15 30\n",
      "2 x 16 32\n",
      "2 x 17 34\n",
      "2 x 18 36\n",
      "2 x 19 38\n",
      "2 x 20 40\n",
      "your table is finished\n"
     ]
    }
   ],
   "source": [
    "           #TABLE\n",
    "\n",
    "table =int(input(\"which table you want to run:\"))\n",
    "number =int(input(\"how many time to run the table:\"))\n",
    "\n",
    "\"2 * 1 = 2 \"\n",
    "for i in range ( 1,number + 1 ):\n",
    "    print (f\"{table} x {i} {table * i}\")\n",
    "else:\n",
    "    print(\"your table is finished\")"
   ]
  },
  {
   "cell_type": "code",
   "execution_count": null,
   "id": "a74566ae-c29d-4530-bac0-a8e5078329d4",
   "metadata": {},
   "outputs": [],
   "source": []
  }
 ],
 "metadata": {
  "kernelspec": {
   "display_name": "Python 3 (ipykernel)",
   "language": "python",
   "name": "python3"
  },
  "language_info": {
   "codemirror_mode": {
    "name": "ipython",
    "version": 3
   },
   "file_extension": ".py",
   "mimetype": "text/x-python",
   "name": "python",
   "nbconvert_exporter": "python",
   "pygments_lexer": "ipython3",
   "version": "3.12.4"
  }
 },
 "nbformat": 4,
 "nbformat_minor": 5
}
